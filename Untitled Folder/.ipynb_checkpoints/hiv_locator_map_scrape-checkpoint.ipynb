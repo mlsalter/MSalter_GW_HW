{
 "cells": [
  {
   "cell_type": "code",
   "execution_count": 2,
   "metadata": {},
   "outputs": [],
   "source": [
    "# Dependencies\n",
    "from bs4 import BeautifulSoup as bs\n",
    "import requests\n",
    "import pandas as pd\n",
    "import numpy as np\n",
    "from splinter import Browser\n",
    "from splinter.exceptions import ElementDoesNotExist"
   ]
  },
  {
   "cell_type": "code",
   "execution_count": 3,
   "metadata": {},
   "outputs": [
    {
     "name": "stdout",
     "output_type": "stream",
     "text": [
      "/usr/local/bin/chromedriver\r\n"
     ]
    }
   ],
   "source": [
    "#https://splinter.readthedocs.io/en/latest/drivers/chrome.html\n",
    "!which chromedriver"
   ]
  },
  {
   "cell_type": "code",
   "execution_count": 8,
   "metadata": {},
   "outputs": [],
   "source": [
    "executable_path = {'executable_path': '/usr/local/bin/chromedriver'}\n",
    "browser = Browser('chrome', **executable_path, headless=False)"
   ]
  },
  {
   "cell_type": "code",
   "execution_count": 9,
   "metadata": {},
   "outputs": [],
   "source": [
    "# URL of page to be scraped\n",
    "url = 'https://npin.cdc.gov/search/organization/testing/hiv'\n",
    "#adding in splinter needed item\n",
    "browser.visit(url)\n",
    "\n",
    "#Scrape by state search function"
   ]
  },
  {
   "cell_type": "code",
   "execution_count": 12,
   "metadata": {},
   "outputs": [
    {
     "name": "stdout",
     "output_type": "stream",
     "text": [
      "Southwest Center for HIV/AIDS\n",
      "1101 N Central Ave, Ste 200, Phoenix, Arizona 85004, United States\n",
      "(602) 307-5330\n",
      "Arnot Health HIV \n",
      "600 Roe Ave, Ste 1 F, Elmira, New York 14905, United States\n",
      "(607) 795-8161\n",
      "Provident Hospital HIV Clinic\n",
      "500 E 51st St, Rm 7067, Chicago, Illinois 60615, United States\n",
      "(312) 572-2728\n",
      "South Suburban HIV/AIDS Regional Clinics\n",
      "15900 S Cicero Ave, Bldg B-11, Oak Forest, Illinois 60452, United States\n",
      "(708) 633-2845\n",
      "UNIFIED - HIV Health and Beyond\n",
      "3968 Mt Elliott St, Detroit, Michigan 48207, United States\n",
      "(313) 446-9800\n",
      "HIV/ HCV Resource Center\n",
      "2 Blacksmith St, Lebanon, New Hampshire 03766, United States\n",
      "(603) 448-8887\n",
      "Delaware HIV Consortium\n",
      "100 W 10th St, Ste 415, Wilmington, Delaware 19801, United States\n",
      "(302) 654-5471\n",
      "Allies Linked for the Prevention of HIV and AIDS\n",
      "537 W Bannock St, Ste 100, Boise, Idaho 83702, United States\n",
      "(208) 424-7799\n",
      "Southern New Hampshire HIV/AIDS Task Force\n",
      "77 Northeastern Blvd, Nashua, New Hampshire 03062, United States\n",
      "(603) 595-8464\n",
      "Fredericksburg Area HIV/AIDS Support Services Incorporated\n",
      "415 Elm St, Fredericksburg, Virginia 22401, United States\n",
      "(540) 371-7532\n",
      "HIV Alliance\n",
      "1195 A City View St, Eugene, Oregon 97402, United States\n",
      "(541) 342-5088\n",
      "HIV Education and Prevention Project of Alameda County\n",
      "5323 Foothill Blvd, Oakland, California 94601, United States\n",
      "(510) 434-0307\n",
      "Navajo Health Education and HIV Prevention Programs\n",
      "Corner Of Navajo Rte 9 and Chaco Blvd, Crownpoint, New Mexico 87313, United States\n",
      "(505) 786-2002\n",
      "HIV Alliance\n",
      "647 W Luellen, Ste 3, Roseburg, Oregon 97470, United States\n",
      "(541) 342-5088\n",
      "Southern New Hampshire HIV/AIDS Task Force\n",
      "17 Dunbar St, Keene, New Hampshire 03431, United States\n",
      "(800) 942-7437\n",
      "Hawaii Island HIV/AIDS Foundation\n",
      "74-5620 Palani Rd, Ste 101, Kailua Kona, Hawaii 96740, United States\n",
      "(808) 331-8177\n",
      "Hawaii Island HIV/AIDS Foundation\n",
      "101 Aupuni St, Penthouse 1014C, Hilo, Hawaii 96720, United States\n",
      "(808) 982-8800\n",
      "Navajo Nation HIV Prevention Program\n",
      "P O Box 288, Navajo Shopping Center, Fort Defiance, Arizona 86504, United States\n",
      "(928) 871-7972\n",
      "IU Health Positive Link\n",
      "333 E Miller Dr, Bloomington, Indiana 47401, United States\n",
      "(812) 353-9150\n"
     ]
    }
   ],
   "source": [
    "#Iterate through all pages (two at first)\n",
    "for x in range(2):\n",
    "    #HTML object\n",
    "    html = browser.html\n",
    "    # Create BeautifulSoup object; parse with 'html.parser'\n",
    "    soup = bs(html, 'html.parser')\n",
    "    #Retrieve all elements that contain organization information in an iterable list\n",
    "    results = soup.find_all('div', class_=\"ds-1col node node-organization article user-picture-available view-mode-search_result clearfix\")\n",
    "    \n",
    "    #Iterate through each organization using Beautiful Soup's find methods\n",
    "    for r in results:\n",
    "        #returns organization name\n",
    "        n_step = r.find(class_='field')\n",
    "        n_step2 = n_step.find('a')\n",
    "        name = n_step2.text\n",
    "    \n",
    "        #returns organization address\n",
    "        a_step = r.find('section', class_='field')\n",
    "        a_step2 = a_step.find(class_='field-item even')\n",
    "        address = a_step2.text\n",
    "    \n",
    "        #returns organization phone number\n",
    "        p_step = r.find(class_='field-name-phone-number')\n",
    "        p_step2 = p_step.find(class_='field-item even')\n",
    "        phone_num = p_step2.text\n",
    "    \n",
    "        print(name)\n",
    "        print(address)\n",
    "        print(phone_num)\n",
    "        \n",
    "    #Click the 'next' button on each page (will include try/except after I know it works)\n",
    "    browser.find_by_css('.pager-next').click()\n",
    "    \n"
   ]
  },
  {
   "cell_type": "code",
   "execution_count": null,
   "metadata": {},
   "outputs": [],
   "source": []
  },
  {
   "cell_type": "code",
   "execution_count": null,
   "metadata": {},
   "outputs": [],
   "source": []
  },
  {
   "cell_type": "code",
   "execution_count": null,
   "metadata": {},
   "outputs": [],
   "source": []
  },
  {
   "cell_type": "code",
   "execution_count": null,
   "metadata": {},
   "outputs": [],
   "source": []
  },
  {
   "cell_type": "code",
   "execution_count": null,
   "metadata": {},
   "outputs": [],
   "source": []
  },
  {
   "cell_type": "code",
   "execution_count": null,
   "metadata": {},
   "outputs": [],
   "source": [
    "# Retrieve page with the requests module\n",
    "response = requests.get(url)"
   ]
  },
  {
   "cell_type": "code",
   "execution_count": null,
   "metadata": {},
   "outputs": [],
   "source": [
    "print(response.text)"
   ]
  },
  {
   "cell_type": "code",
   "execution_count": null,
   "metadata": {},
   "outputs": [],
   "source": [
    "# Create BeautifulSoup object; parse with 'html.parser'\n",
    "soup = BeautifulSoup(response.text, 'html.parser')"
   ]
  },
  {
   "cell_type": "code",
   "execution_count": null,
   "metadata": {},
   "outputs": [],
   "source": [
    "# Examine the results, then determine element that contains sought info\n",
    "print(soup.prettify())"
   ]
  },
  {
   "cell_type": "code",
   "execution_count": null,
   "metadata": {},
   "outputs": [],
   "source": [
    "# results are returned as an iterable list\n",
    "results = soup.find_all('div', class_=\"ds-1col node node-organization article user-picture-available view-mode-search_result clearfix\")"
   ]
  },
  {
   "cell_type": "code",
   "execution_count": null,
   "metadata": {},
   "outputs": [],
   "source": [
    "for r in results:\n",
    "    print(r.prettify())"
   ]
  },
  {
   "cell_type": "code",
   "execution_count": null,
   "metadata": {},
   "outputs": [],
   "source": [
    "#pulling info to be able to place in a dictionary\n",
    "for r in results:\n",
    "    #returns organization name\n",
    "    n_step = r.find(class_='field')\n",
    "    n_step2 = n_step.find('a')\n",
    "    name = n_step2.text\n",
    "    \n",
    "    #returns organization address\n",
    "    a_step = r.find('section', class_='field')\n",
    "    a_step2 = a_step.find(class_='field-item even')\n",
    "    address = a_step2.text\n",
    "    \n",
    "    #returns organization phone number\n",
    "    p_step = r.find(class_='field-name-phone-number')\n",
    "    p_step2 = p_step.find(class_='field-item even')\n",
    "    phone_num = p_step2.text\n",
    "    \n",
    "    print(name)\n",
    "    print(address)\n",
    "    print(phone_num)\n"
   ]
  },
  {
   "cell_type": "code",
   "execution_count": null,
   "metadata": {},
   "outputs": [],
   "source": []
  },
  {
   "cell_type": "code",
   "execution_count": null,
   "metadata": {},
   "outputs": [],
   "source": []
  },
  {
   "cell_type": "code",
   "execution_count": null,
   "metadata": {},
   "outputs": [],
   "source": []
  },
  {
   "cell_type": "code",
   "execution_count": null,
   "metadata": {},
   "outputs": [],
   "source": []
  },
  {
   "cell_type": "code",
   "execution_count": null,
   "metadata": {},
   "outputs": [],
   "source": [
    "# Loop through returned results\n",
    "for nexts in next_results:\n",
    "    # Error handling\n",
    "     try:\n",
    "        # Identify and return title of listing\n",
    "        contact_info = nexts.find('div', class_='field-item even').text\n",
    "\n",
    "#        # Print results only if title, price, and link are available\n",
    "#        if (address):\n",
    "        print(contact_info)\n",
    "#             print(phone_num)\n",
    "            \n",
    "            \n",
    "        # Dictionary to be inserted as a MongoDB document\n",
    "#             post = {\n",
    "#                 'title': title,\n",
    "#                 'price': price,\n",
    "#                 'url': link\n",
    "#             }\n",
    "\n",
    "#             collection.insert_one(post)\n",
    "#    except AttributeError as e:\n",
    "#        print(e)"
   ]
  },
  {
   "cell_type": "code",
   "execution_count": null,
   "metadata": {},
   "outputs": [],
   "source": []
  },
  {
   "cell_type": "code",
   "execution_count": null,
   "metadata": {},
   "outputs": [],
   "source": []
  },
  {
   "cell_type": "code",
   "execution_count": null,
   "metadata": {},
   "outputs": [],
   "source": [
    "# Display items in MongoDB collection\n",
    "listings = db.items.find()\n",
    "\n",
    "for listing in listings:\n",
    "    print(listing)"
   ]
  },
  {
   "cell_type": "code",
   "execution_count": null,
   "metadata": {},
   "outputs": [],
   "source": []
  },
  {
   "cell_type": "code",
   "execution_count": null,
   "metadata": {},
   "outputs": [],
   "source": []
  }
 ],
 "metadata": {
  "kernelspec": {
   "display_name": "Python 3",
   "language": "python",
   "name": "python3"
  },
  "language_info": {
   "codemirror_mode": {
    "name": "ipython",
    "version": 3
   },
   "file_extension": ".py",
   "mimetype": "text/x-python",
   "name": "python",
   "nbconvert_exporter": "python",
   "pygments_lexer": "ipython3",
   "version": "3.7.3"
  }
 },
 "nbformat": 4,
 "nbformat_minor": 2
}
