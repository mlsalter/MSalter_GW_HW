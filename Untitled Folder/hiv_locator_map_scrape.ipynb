{
 "cells": [
  {
   "cell_type": "code",
   "execution_count": 1,
   "metadata": {},
   "outputs": [],
   "source": [
    "# Dependencies\n",
    "from bs4 import BeautifulSoup as bs\n",
    "import requests\n",
    "import pandas as pd\n",
    "import numpy as np\n",
    "from splinter import Browser\n",
    "from splinter.exceptions import ElementDoesNotExist"
   ]
  },
  {
   "cell_type": "code",
   "execution_count": 2,
   "metadata": {},
   "outputs": [
    {
     "name": "stdout",
     "output_type": "stream",
     "text": [
      "/usr/local/bin/chromedriver\r\n"
     ]
    }
   ],
   "source": [
    "#https://splinter.readthedocs.io/en/latest/drivers/chrome.html\n",
    "!which chromedriver"
   ]
  },
  {
   "cell_type": "code",
   "execution_count": 3,
   "metadata": {},
   "outputs": [],
   "source": [
    "executable_path = {'executable_path': '/usr/local/bin/chromedriver'}\n",
    "browser = Browser('chrome', **executable_path, headless=False)"
   ]
  },
  {
   "cell_type": "code",
   "execution_count": 4,
   "metadata": {},
   "outputs": [],
   "source": [
    "# URL of page to be scraped\n",
    "url = 'https://npin.cdc.gov/search/organizations/map'\n",
    "#adding in splinter needed item\n",
    "browser.visit(url)\n",
    "\n",
    "#Scrape by state search function"
   ]
  },
  {
   "cell_type": "code",
   "execution_count": 5,
   "metadata": {},
   "outputs": [
    {
     "name": "stdout",
     "output_type": "stream",
     "text": [
      "Pregnancy Helpline\n",
      "7743 Grand River Rd, Ste 101, Brighton, Michigan 48114, United States\n",
      "(810) 494-5433\n",
      "Lafayette Foundation Clinic\n",
      "121 Rue Louis XIV, Bldg 9 Ste A, Lafayette, Louisiana 70508, United States\n",
      "(337) 988-9737\n",
      "HCA Physician Services Group\n",
      "44 Birch St, Ste 200, Londonderry, New Hampshire 03038, United States\n",
      "(603) 404-2210\n",
      "CareMed Primary and Urgent Care\n",
      "1228 E Main St, Riverhead, New York  11901, United States\n",
      "(631) 603-3400\n",
      "Watonga Indian Health Center\n",
      "1305 S Clarence Nash Blvd, Watonga, Oklahoma 73772, United States\n",
      "(580) 623-4991\n",
      "Center for Advanced Care\n",
      "1286 Cedar Center Dr, Tallahassee, Florida 32301, United States\n",
      "(850) 765-4444\n",
      "Heartland Community Health Center\n",
      "346 Maine St, Lawrence, Kansas 66044, United States\n",
      "(785) 841-7297\n",
      "Lower Lights Christian Health Center\n",
      "1160 W Broad St, Columbus, Ohio 43222, United States\n",
      "(614) 274-1455\n",
      "Christopher Rural Health Planning Corporation\n",
      "6294 State Hwy 154, Sesser, Illinois 62884, United States\n",
      "(618) 625-6979\n",
      "Ocean Health Initiatives\n",
      "625 Clifton Ave, Lakewood, New Jersey 08701, United States\n",
      "(732) 363-6655\n",
      "Ocean Health Initiatives\n",
      "855 Somerset Ave, Lakewood, New Jersey 08701, United States\n",
      "(732) 363-6655\n",
      "Ocean Health Initiatives\n",
      "20 Jackson St, Freehold, New Jersey 07728, United States\n",
      "(732) 363-6655\n",
      "Ocean Health Initiatives\n",
      "1610 Rte 88, Bldg 3 Ste 204, Brick, New Jersey 08724, United States\n",
      "(732) 363-6655\n",
      "Ocean Health Initiatives\n",
      "686 Route 70, Lakehurst, New Jersey 08733, United States\n",
      "(732) 363-6655\n",
      "Christopher Rural Health Planning Corporation\n",
      "2920 Veterans Memorial Dr, Mount Vernon, Illinois 62864, United States\n",
      "(618) 244-6544\n",
      "Ocean Health Initiatives\n",
      "798 Route 539, Bldg 3, Little Egg Harbor, New Jersey 08087, United States\n",
      "(732) 363-6655\n",
      "Christopher Rural Health Planning Corporation\n",
      "165 Kinnaman Dr, Flora, Illinois 62839, United States\n",
      "(618) 662-8386\n",
      "Ocean Health Initiatives\n",
      "333 Haywood Rd, Manahawkin, New Jersey 08050, United States\n",
      "(732) 363-6655\n",
      "Christopher Rural Health Planning Corporation\n",
      "209 NW 11th St, Fairfield, Illinois 62837, United States\n",
      "(618) 842-4470\n",
      "Utica Park Clinic\n",
      "4408 S Harvard Ave, Tulsa, Oklahoma 74135, United States\n",
      "(918) 574-0350\n"
     ]
    }
   ],
   "source": [
    "organizations = []\n",
    "\n",
    "#Iterate through all pages (two at first)\n",
    "for x in range(2):\n",
    "    #HTML object\n",
    "    html = browser.html\n",
    "    # Create BeautifulSoup object; parse with 'html.parser'\n",
    "    soup = bs(html, 'html.parser')\n",
    "    #Retrieve all elements that contain organization information in an iterable list\n",
    "    results = soup.find_all('div', class_=\"ds-1col node node-organization article user-picture-available view-mode-search_result clearfix\")\n",
    "    \n",
    "    #Iterate through each organization using Beautiful Soup's find methods\n",
    "    for r in results:\n",
    "        #returns organization name\n",
    "        n_step = r.find(class_='field')\n",
    "        n_step2 = n_step.find('a')\n",
    "        name = n_step2.text\n",
    "    \n",
    "        #returns organization address\n",
    "        a_step = r.find('section', class_='field')\n",
    "        a_step2 = a_step.find(class_='field-item even')\n",
    "        address = a_step2.text\n",
    "    \n",
    "        #returns organization phone number\n",
    "        p_step = r.find(class_='field-name-phone-number')\n",
    "        p_step2 = p_step.find(class_='field-item even')\n",
    "        phone_num = p_step2.text\n",
    "    \n",
    "#         print(name)\n",
    "#         print(address)\n",
    "#         print(phone_num)\n",
    "        organizations.append({\n",
    "            'Name':name,\n",
    "            'Address':address,\n",
    "            'Phone Number':phone_num\n",
    "        })\n",
    "        \n",
    "    #Click the 'next' button on each page (will include try/except after I know it works)\n",
    "    try:\n",
    "        browser.find_by_css('.pager-next').click()\n",
    "    except:\n",
    "        print('Scrape Completed')\n",
    "    \n"
   ]
  },
  {
   "cell_type": "code",
   "execution_count": null,
   "metadata": {},
   "outputs": [],
   "source": [
    "org_df = pd.DataFrame(organizations)\n",
    "org_df"
   ]
  },
  {
   "cell_type": "code",
   "execution_count": null,
   "metadata": {},
   "outputs": [],
   "source": []
  },
  {
   "cell_type": "code",
   "execution_count": null,
   "metadata": {},
   "outputs": [],
   "source": []
  },
  {
   "cell_type": "code",
   "execution_count": null,
   "metadata": {},
   "outputs": [],
   "source": []
  },
  {
   "cell_type": "code",
   "execution_count": null,
   "metadata": {},
   "outputs": [],
   "source": []
  },
  {
   "cell_type": "code",
   "execution_count": null,
   "metadata": {},
   "outputs": [],
   "source": [
    "# Retrieve page with the requests module\n",
    "response = requests.get(url)"
   ]
  },
  {
   "cell_type": "code",
   "execution_count": null,
   "metadata": {},
   "outputs": [],
   "source": [
    "print(response.text)"
   ]
  },
  {
   "cell_type": "code",
   "execution_count": null,
   "metadata": {},
   "outputs": [],
   "source": [
    "# Create BeautifulSoup object; parse with 'html.parser'\n",
    "soup = BeautifulSoup(response.text, 'html.parser')"
   ]
  },
  {
   "cell_type": "code",
   "execution_count": null,
   "metadata": {},
   "outputs": [],
   "source": [
    "# Examine the results, then determine element that contains sought info\n",
    "print(soup.prettify())"
   ]
  },
  {
   "cell_type": "code",
   "execution_count": null,
   "metadata": {},
   "outputs": [],
   "source": [
    "# results are returned as an iterable list\n",
    "results = soup.find_all('div', class_=\"ds-1col node node-organization article user-picture-available view-mode-search_result clearfix\")"
   ]
  },
  {
   "cell_type": "code",
   "execution_count": null,
   "metadata": {},
   "outputs": [],
   "source": [
    "for r in results:\n",
    "    print(r.prettify())"
   ]
  },
  {
   "cell_type": "code",
   "execution_count": null,
   "metadata": {},
   "outputs": [],
   "source": [
    "#pulling info to be able to place in a dictionary\n",
    "for r in results:\n",
    "    #returns organization name\n",
    "    n_step = r.find(class_='field')\n",
    "    n_step2 = n_step.find('a')\n",
    "    name = n_step2.text\n",
    "    \n",
    "    #returns organization address\n",
    "    a_step = r.find('section', class_='field')\n",
    "    a_step2 = a_step.find(class_='field-item even')\n",
    "    address = a_step2.text\n",
    "    \n",
    "    #returns organization phone number\n",
    "    p_step = r.find(class_='field-name-phone-number')\n",
    "    p_step2 = p_step.find(class_='field-item even')\n",
    "    phone_num = p_step2.text\n",
    "    \n",
    "    print(name)\n",
    "    print(address)\n",
    "    print(phone_num)\n"
   ]
  },
  {
   "cell_type": "code",
   "execution_count": null,
   "metadata": {},
   "outputs": [],
   "source": []
  },
  {
   "cell_type": "code",
   "execution_count": null,
   "metadata": {},
   "outputs": [],
   "source": []
  },
  {
   "cell_type": "code",
   "execution_count": null,
   "metadata": {},
   "outputs": [],
   "source": []
  },
  {
   "cell_type": "code",
   "execution_count": null,
   "metadata": {},
   "outputs": [],
   "source": []
  },
  {
   "cell_type": "code",
   "execution_count": null,
   "metadata": {},
   "outputs": [],
   "source": [
    "# Loop through returned results\n",
    "for nexts in next_results:\n",
    "    # Error handling\n",
    "     try:\n",
    "        # Identify and return title of listing\n",
    "        contact_info = nexts.find('div', class_='field-item even').text\n",
    "\n",
    "#        # Print results only if title, price, and link are available\n",
    "#        if (address):\n",
    "        print(contact_info)\n",
    "#             print(phone_num)\n",
    "            \n",
    "            \n",
    "        # Dictionary to be inserted as a MongoDB document\n",
    "#             post = {\n",
    "#                 'title': title,\n",
    "#                 'price': price,\n",
    "#                 'url': link\n",
    "#             }\n",
    "\n",
    "#             collection.insert_one(post)\n",
    "#    except AttributeError as e:\n",
    "#        print(e)"
   ]
  },
  {
   "cell_type": "code",
   "execution_count": null,
   "metadata": {},
   "outputs": [],
   "source": []
  },
  {
   "cell_type": "code",
   "execution_count": null,
   "metadata": {},
   "outputs": [],
   "source": []
  },
  {
   "cell_type": "code",
   "execution_count": null,
   "metadata": {},
   "outputs": [],
   "source": [
    "# Display items in MongoDB collection\n",
    "listings = db.items.find()\n",
    "\n",
    "for listing in listings:\n",
    "    print(listing)"
   ]
  },
  {
   "cell_type": "code",
   "execution_count": null,
   "metadata": {},
   "outputs": [],
   "source": []
  },
  {
   "cell_type": "code",
   "execution_count": null,
   "metadata": {},
   "outputs": [],
   "source": []
  }
 ],
 "metadata": {
  "kernelspec": {
   "display_name": "Python 3",
   "language": "python",
   "name": "python3"
  },
  "language_info": {
   "codemirror_mode": {
    "name": "ipython",
    "version": 3
   },
   "file_extension": ".py",
   "mimetype": "text/x-python",
   "name": "python",
   "nbconvert_exporter": "python",
   "pygments_lexer": "ipython3",
   "version": "3.7.3"
  }
 },
 "nbformat": 4,
 "nbformat_minor": 2
}
